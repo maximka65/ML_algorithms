{
 "cells": [
  {
   "cell_type": "markdown",
   "metadata": {
    "id": "41AitfhKbsha"
   },
   "source": [
    "# Градиентный бустинг"
   ]
  },
  {
   "cell_type": "markdown",
   "metadata": {
    "id": "qTdnsVCnbshu"
   },
   "source": [
    "## Реализация алгоритма градиентного бустинга для деревьев решений."
   ]
  },
  {
   "cell_type": "markdown",
   "metadata": {
    "id": "1sG8r2RPbshw"
   },
   "source": [
    "Реализация дерева решений в папаке 4_tree, в этой раюоте не буду ее повторять и возьму готовую реализацию дерева решений для регрессии из библиотеки `sklearn`."
   ]
  },
  {
   "cell_type": "code",
   "execution_count": 1,
   "metadata": {
    "id": "Qk-74OFhbshx"
   },
   "outputs": [],
   "source": [
    "from sklearn.tree import DecisionTreeRegressor\n",
    "\n",
    "from sklearn import model_selection\n",
    "import numpy as np"
   ]
  },
  {
   "cell_type": "markdown",
   "metadata": {
    "id": "LYD1kLOibsh0"
   },
   "source": [
    "Использую один из \"игрушечных\" датасетов из той же библиотеки."
   ]
  },
  {
   "cell_type": "code",
   "execution_count": 2,
   "metadata": {
    "id": "eDZbSvqMbsh1"
   },
   "outputs": [],
   "source": [
    "from sklearn.datasets import load_diabetes"
   ]
  },
  {
   "cell_type": "code",
   "execution_count": 3,
   "metadata": {
    "id": "leu8bBI7bsh6"
   },
   "outputs": [],
   "source": [
    "X, y = load_diabetes(return_X_y=True)"
   ]
  },
  {
   "cell_type": "code",
   "execution_count": 4,
   "metadata": {
    "id": "ExZPR9FLbsh9"
   },
   "outputs": [],
   "source": [
    "X_train, X_test, y_train, y_test = model_selection.train_test_split(X, y, test_size=0.25)"
   ]
  },
  {
   "cell_type": "code",
   "execution_count": 5,
   "metadata": {
    "id": "wU_Rkc63bsiA"
   },
   "outputs": [],
   "source": [
    "def gb_predict(X, trees_list, coef_list, eta):\n",
    "    # алгоритм градиентного бустинга будет инициализироваться нулевыми значениями,\n",
    "    # поэтому все деревья из списка trees_list уже являются дополнительными и при предсказании прибавляются с шагом eta\n",
    "    return np.array([sum([eta* coef * alg.predict([x])[0] for alg, coef in zip(trees_list, coef_list)]) for x in X])"
   ]
  },
  {
   "cell_type": "markdown",
   "metadata": {
    "id": "6gZvsyfSbsiD"
   },
   "source": [
    "В качестве функционала ошибки буду использовать среднеквадратичную ошибку"
   ]
  },
  {
   "cell_type": "code",
   "execution_count": 6,
   "metadata": {
    "id": "0xbjFIEKbsiE"
   },
   "outputs": [],
   "source": [
    "def mean_squared_error(y_real, prediction):\n",
    "    return (sum((y_real - prediction)**2)) / len(y_real)\n",
    "\n",
    "def bias(y, z):\n",
    "    return (y - z)"
   ]
  },
  {
   "cell_type": "code",
   "execution_count": 8,
   "metadata": {
    "id": "HoIdAoPYbsiL"
   },
   "outputs": [],
   "source": [
    "def gb_fit(n_trees, max_depth, X_train, X_test, y_train, y_test, coefs, eta):\n",
    "    \n",
    "    # Деревья буду записывать в список\n",
    "    trees = []\n",
    "    \n",
    "    # Буду записывать ошибки на обучающей и тестовой выборке на каждой итерации в список\n",
    "    train_errors = []\n",
    "    test_errors = []\n",
    "    \n",
    "    for i in range(n_trees):\n",
    "        tree = DecisionTreeRegressor(max_depth=max_depth, random_state=42)\n",
    "\n",
    "        # инициализирую бустинг начальным алгоритмом, возвращающим ноль, \n",
    "        # поэтому первый алгоритм просто обучаю на выборке и добавляем в список\n",
    "        if len(trees) == 0:\n",
    "            tree.fit(X_train, y_train)\n",
    "            \n",
    "            train_errors.append(mean_squared_error(y_train, gb_predict(X_train, trees, coefs, eta)))\n",
    "            test_errors.append(mean_squared_error(y_test, gb_predict(X_test, trees, coefs, eta)))\n",
    "        else:\n",
    "            # ответы на текущей композиции\n",
    "            target = gb_predict(X_train, trees, coefs, eta)\n",
    "            \n",
    "            # алгоритмы начиная со второго обучаю на сдвиг\n",
    "            tree.fit(X_train, bias(y_train, target))\n",
    "            \n",
    "            train_errors.append(mean_squared_error(y_train, gb_predict(X_train, trees, coefs, eta)))\n",
    "            test_errors.append(mean_squared_error(y_test, gb_predict(X_test, trees, coefs, eta)))\n",
    "\n",
    "        trees.append(tree)\n",
    "        \n",
    "    return trees, train_errors, test_errors"
   ]
  },
  {
   "cell_type": "code",
   "execution_count": 9,
   "metadata": {},
   "outputs": [],
   "source": [
    "import matplotlib.pyplot as plt"
   ]
  },
  {
   "cell_type": "code",
   "execution_count": 10,
   "metadata": {},
   "outputs": [],
   "source": [
    "def get_error_plot(n_trees, train_err, test_err):\n",
    "    plt.xlabel('Iteration number')\n",
    "    plt.ylabel('MSE')\n",
    "    plt.xlim(0, n_trees)\n",
    "    plt.plot(list(range(n_trees)), train_err, label='train error')\n",
    "    plt.plot(list(range(n_trees)), test_err, label='test error')\n",
    "    plt.legend(loc='upper right')\n",
    "    plt.show()"
   ]
  },
  {
   "cell_type": "markdown",
   "metadata": {
    "id": "0vkHFhhzbsiN"
   },
   "source": [
    "Обучу несколько моделей с разным количеством деревьев и исследую\n",
    "их поведение."
   ]
  },
  {
   "cell_type": "code",
   "execution_count": 36,
   "metadata": {
    "id": "2WvxluSlbsiO"
   },
   "outputs": [],
   "source": [
    "#собераю ошибки алгоритма обученного на разыных количествах деревьев в список\n",
    "errors_by_ntrees = []\n",
    "\n",
    "# Число деревьев в ансамбле\n",
    "n_trees = 10\n",
    "\n",
    "# для простоты примем коэффициенты (вес) равными 1\n",
    "coefs = [1] * n_trees\n",
    "\n",
    "# Максимальная глубина деревьев\n",
    "max_depth = 3\n",
    "\n",
    "# Шаг\n",
    "eta = .1\n"
   ]
  },
  {
   "cell_type": "code",
   "execution_count": 37,
   "metadata": {
    "id": "GDMFn3R-bsiR"
   },
   "outputs": [],
   "source": [
    "def evaluate_alg(X_train, X_test, y_train, y_test, trees, coefs, eta):\n",
    "    train_prediction = gb_predict(X_train, trees, coefs, eta)\n",
    "    test_prediction = gb_predict(X_test, trees, coefs, eta)\n",
    "    return n_trees, max_depth, mean_squared_error(y_train, train_prediction), mean_squared_error(y_test, test_prediction)"
   ]
  },
  {
   "cell_type": "code",
   "execution_count": 38,
   "metadata": {
    "id": "A2z_xXFiKmlP"
   },
   "outputs": [],
   "source": [
    "for i in range(1,15):\n",
    "    n_trees = i\n",
    "    coefs = [1] * n_trees\n",
    "    trees, train_errors, test_errors = gb_fit(n_trees, max_depth, X_train, X_test, y_train, y_test, coefs, eta)\n",
    "#    get_error_plot(n_trees, train_errors, test_errors)\n",
    "    errors_by_ntrees.append(evaluate_alg(X_train, X_test, y_train, y_test, trees, coefs, eta))"
   ]
  },
  {
   "cell_type": "code",
   "execution_count": 39,
   "metadata": {
    "colab": {
     "base_uri": "https://localhost:8080/"
    },
    "id": "WEBbjCynbsiV",
    "outputId": "20845d87-dc50-4315-9dd1-818c276f74e6"
   },
   "outputs": [
    {
     "data": {
      "text/plain": [
       "array([[1.00000000e+00, 2.00000000e+00, 3.00000000e+00, 4.00000000e+00,\n",
       "        5.00000000e+00, 6.00000000e+00, 7.00000000e+00, 8.00000000e+00,\n",
       "        9.00000000e+00, 1.00000000e+01, 1.10000000e+01, 1.20000000e+01,\n",
       "        1.30000000e+01, 1.40000000e+01],\n",
       "       [3.00000000e+00, 3.00000000e+00, 3.00000000e+00, 3.00000000e+00,\n",
       "        3.00000000e+00, 3.00000000e+00, 3.00000000e+00, 3.00000000e+00,\n",
       "        3.00000000e+00, 3.00000000e+00, 3.00000000e+00, 3.00000000e+00,\n",
       "        3.00000000e+00, 3.00000000e+00],\n",
       "       [2.37945511e+04, 1.97732653e+04, 1.65059359e+04, 1.38573536e+04,\n",
       "        1.16974130e+04, 9.93722648e+03, 8.50540007e+03, 7.32776638e+03,\n",
       "        6.37266525e+03, 5.58991435e+03, 4.94298972e+03, 4.41583042e+03,\n",
       "        3.98312244e+03, 3.62954023e+03],\n",
       "       [2.52875233e+04, 2.13652147e+04, 1.81712097e+04, 1.54753869e+04,\n",
       "        1.34530158e+04, 1.16818869e+04, 1.03072731e+04, 9.10849474e+03,\n",
       "        8.14266495e+03, 7.38492293e+03, 6.72840591e+03, 6.22407748e+03,\n",
       "        5.77439367e+03, 5.42817276e+03]])"
      ]
     },
     "execution_count": 39,
     "metadata": {},
     "output_type": "execute_result"
    }
   ],
   "source": [
    "errors_by_ntrees = np.array(errors_by_ntrees).T\n",
    "errors_by_ntrees"
   ]
  },
  {
   "cell_type": "markdown",
   "metadata": {
    "id": "TluGn7Iubsib"
   },
   "source": [
    "Построим графики зависимости ошибки на обучающей и тестовой выборках от числа итераций."
   ]
  },
  {
   "cell_type": "code",
   "execution_count": 40,
   "metadata": {
    "id": "QXrSdSgjbsic"
   },
   "outputs": [],
   "source": [
    "import matplotlib.pyplot as plt"
   ]
  },
  {
   "cell_type": "code",
   "execution_count": 41,
   "metadata": {
    "id": "gjDdKkgObsif"
   },
   "outputs": [],
   "source": [
    "def get_error_plot(errors_by_ntrees):\n",
    "    plt.xlabel('ntrees')\n",
    "    plt.ylabel('MSE')\n",
    "#    plt.xlim(0, n_trees)\n",
    "    plt.plot(errors_by_ntrees[0], errors_by_ntrees[2], label='train error')\n",
    "    plt.plot(errors_by_ntrees[0], errors_by_ntrees[3], label='test error')\n",
    "    plt.legend(loc='upper right')\n",
    "    plt.show()"
   ]
  },
  {
   "cell_type": "code",
   "execution_count": 42,
   "metadata": {
    "colab": {
     "base_uri": "https://localhost:8080/",
     "height": 279
    },
    "id": "Was5hOJPbsih",
    "outputId": "e15b4ce7-2305-4a7e-db5c-5974cc824528"
   },
   "outputs": [
    {
     "data": {
      "image/png": "[encoded data removed]",
      "text/plain": [
       "<Figure size 432x288 with 1 Axes>"
      ]
     },
     "metadata": {
      "needs_background": "light"
     },
     "output_type": "display_data"
    }
   ],
   "source": [
    "get_error_plot(errors_by_ntrees)"
   ]
  },
  {
   "cell_type": "markdown",
   "metadata": {
    "id": "NS16dUwRbsik"
   },
   "source": [
    "Алгоритм линейно повышает качество на обеих выборках, но на лицо переобучение которое еще и возрастает с услажнением алгоритма.  Переобучение и не может уменьшаться никак потому что модель работает именно последовательно и каждое дерево связанно с предыдущим. ошибка уменишается и градиент становится меньше в итоге переобучение наростает накопительно и не может вдруг на каком-то шаге уменьшится как например в randomforrest где деревья независимы и поправляют друг друга."
   ]
  },
  {
   "cell_type": "markdown",
   "metadata": {
    "id": "9n8R32khbsil"
   },
   "source": [
    "увеличим максимальную глубину деревьев"
   ]
  },
  {
   "cell_type": "code",
   "execution_count": 21,
   "metadata": {},
   "outputs": [],
   "source": [
    "#соберем ошибки алгоритма обученного на разыных максимальных глубин в список\n",
    "errors_by_maxdepth = []"
   ]
  },
  {
   "cell_type": "code",
   "execution_count": 22,
   "metadata": {
    "id": "hvLCSptsbsi8"
   },
   "outputs": [],
   "source": [
    "eta = 0.1\n",
    "max_depth = 2\n",
    "n_trees = 20\n",
    "coefs = [1] * n_trees\n",
    "\n",
    "for i in range(2,7):\n",
    "    max_depth = i\n",
    "    trees, train_errors, test_errors = gb_fit(n_trees, max_depth, X_train, X_test, y_train, y_test, coefs, eta)\n",
    "#   get_error_plot(n_trees, train_errors, test_errors)\n",
    "    errors_by_maxdepth.append(evaluate_alg(X_train, X_test, y_train, y_test, trees, coefs, eta))\n"
   ]
  },
  {
   "cell_type": "code",
   "execution_count": 26,
   "metadata": {},
   "outputs": [
    {
     "data": {
      "text/plain": [
       "array([[2.00000000e+01, 2.00000000e+01, 2.00000000e+01, 2.00000000e+01,\n",
       "        2.00000000e+01],\n",
       "       [2.00000000e+00, 3.00000000e+00, 4.00000000e+00, 5.00000000e+00,\n",
       "        6.00000000e+00],\n",
       "       [2.94426985e+03, 2.43128518e+03, 1.80588085e+03, 1.27963335e+03,\n",
       "        8.86123744e+02],\n",
       "       [4.18516287e+03, 4.14080092e+03, 4.31014032e+03, 4.56599940e+03,\n",
       "        4.70538941e+03]])"
      ]
     },
     "execution_count": 26,
     "metadata": {},
     "output_type": "execute_result"
    }
   ],
   "source": [
    "errors_by_maxdepth = np.array(errors_by_maxdepth).T\n",
    "errors_by_maxdepth"
   ]
  },
  {
   "cell_type": "code",
   "execution_count": 27,
   "metadata": {},
   "outputs": [
    {
     "data": {
      "image/png": "[encoded data removed]",
      "text/plain": [
       "<Figure size 432x288 with 1 Axes>"
      ]
     },
     "metadata": {
      "needs_background": "light"
     },
     "output_type": "display_data"
    }
   ],
   "source": [
    "plt.xlabel('max_depth')\n",
    "plt.ylabel('MSE')\n",
    "plt.plot(errors_by_maxdepth[1], errors_by_maxdepth[2], label='train error')\n",
    "plt.plot(errors_by_maxdepth[1], errors_by_maxdepth[3], label='test error')\n",
    "plt.legend(loc='upper right')\n",
    "plt.show()"
   ]
  },
  {
   "cell_type": "markdown",
   "metadata": {
    "id": "IpD13qpubsjH"
   },
   "source": [
    "Переобучение на лицо опять же, и с усложнением алгоритма за счет увеличения max_depth только растет. Кажется что max_depth=3 оптимальное значение."
   ]
  },
  {
   "cell_type": "markdown",
   "metadata": {},
   "source": [
    "Уменьшим шаг обучения "
   ]
  },
  {
   "cell_type": "code",
   "execution_count": 29,
   "metadata": {},
   "outputs": [],
   "source": [
    "n_trees = 20 \n",
    "coefs = [1] * n_trees\n",
    "max_depth = 3\n",
    "eta = .01\n",
    "trees, train_errors, test_errors = gb_fit(n_trees, max_depth, X_train, X_test, y_train, y_test, coefs, eta)"
   ]
  },
  {
   "cell_type": "code",
   "execution_count": 30,
   "metadata": {},
   "outputs": [
    {
     "data": {
      "text/plain": [
       "(20, 3, 20105.636828272876, 21692.71162417982)"
      ]
     },
     "execution_count": 30,
     "metadata": {},
     "output_type": "execute_result"
    }
   ],
   "source": [
    "evaluate_alg(X_train, X_test, y_train, y_test, trees, coefs, eta)"
   ]
  },
  {
   "cell_type": "code",
   "execution_count": 34,
   "metadata": {},
   "outputs": [],
   "source": [
    "n_trees = 20\n",
    "coefs = [1] * n_trees\n",
    "max_depth = 3\n",
    "eta = .008\n",
    "trees, train_errors, test_errors = gb_fit(n_trees, max_depth, X_train, X_test, y_train, y_test, coefs, eta)"
   ]
  },
  {
   "cell_type": "code",
   "execution_count": 35,
   "metadata": {},
   "outputs": [
    {
     "data": {
      "text/plain": [
       "(20, 3, 21577.644993043774, 23113.765029655944)"
      ]
     },
     "execution_count": 35,
     "metadata": {},
     "output_type": "execute_result"
    }
   ],
   "source": [
    "evaluate_alg(X_train, X_test, y_train, y_test, trees, coefs, eta)"
   ]
  },
  {
   "cell_type": "markdown",
   "metadata": {},
   "source": [
    "В итоге проблема переобучение почти решена, лучшие гиперпарамктры которые получилось подобрать это: \n",
    "n_trees = 20 \n",
    "max_depth = 3\n",
    "eta = .01"
   ]
  }
 ],
 "metadata": {
  "colab": {
   "collapsed_sections": [
    "Rg5ilDbTbshs",
    "Z2tMUhhXbsjK"
   ],
   "name": "Lesson_6(edited).ipynb",
   "provenance": []
  },
  "kernelspec": {
   "display_name": "Python 3 (ipykernel)",
   "language": "python",
   "name": "python3"
  },
  "language_info": {
   "codemirror_mode": {
    "name": "ipython",
    "version": 3
   },
   "file_extension": ".py",
   "mimetype": "text/x-python",
   "name": "python",
   "nbconvert_exporter": "python",
   "pygments_lexer": "ipython3",
   "version": "3.9.12"
  }
 },
 "nbformat": 4,
 "nbformat_minor": 1
}
