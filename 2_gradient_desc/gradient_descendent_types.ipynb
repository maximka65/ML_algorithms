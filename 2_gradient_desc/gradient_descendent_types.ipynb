{
 "cells": [
  {
   "cell_type": "code",
   "execution_count": 140,
   "metadata": {},
   "outputs": [],
   "source": [
    "import numpy as np\n",
    "import pandas as pd\n",
    "import seaborn as sns"
   ]
  },
  {
   "cell_type": "code",
   "execution_count": 141,
   "metadata": {},
   "outputs": [],
   "source": [
    "from sklearn.datasets import make_regression"
   ]
  },
  {
   "cell_type": "code",
   "execution_count": 142,
   "metadata": {},
   "outputs": [],
   "source": [
    "X, y = make_regression()"
   ]
  },
  {
   "cell_type": "code",
   "execution_count": 143,
   "metadata": {},
   "outputs": [
    {
     "data": {
      "text/plain": [
       "array([[ 0.49958374, -0.87188247, -0.16378474, ...,  0.8645539 ,\n",
       "         1.32527484, -1.94360584],\n",
       "       [ 0.23611108, -0.1521956 , -0.06441187, ..., -0.51437097,\n",
       "        -0.28495737,  0.95950081],\n",
       "       [ 1.09057885, -0.49910686, -0.15676884, ...,  1.76316541,\n",
       "        -1.39658959,  1.18658045],\n",
       "       ...,\n",
       "       [-0.10328966,  0.86049227,  0.90446154, ..., -1.09339327,\n",
       "         1.0286838 ,  0.08679807],\n",
       "       [ 0.51462272, -0.72794101, -0.15493647, ...,  0.73479984,\n",
       "         1.59572584, -0.82387886],\n",
       "       [ 0.37539556, -2.07733306,  0.73906058, ..., -0.60783138,\n",
       "         0.03490653,  0.17302311]])"
      ]
     },
     "execution_count": 143,
     "metadata": {},
     "output_type": "execute_result"
    }
   ],
   "source": [
    "X"
   ]
  },
  {
   "cell_type": "code",
   "execution_count": 144,
   "metadata": {},
   "outputs": [
    {
     "data": {
      "text/plain": [
       "((100, 100), (100,))"
      ]
     },
     "execution_count": 144,
     "metadata": {},
     "output_type": "execute_result"
    }
   ],
   "source": [
    "X.shape, y.shape"
   ]
  },
  {
   "cell_type": "code",
   "execution_count": 145,
   "metadata": {},
   "outputs": [
    {
     "data": {
      "text/plain": [
       "array([ 1.13111269e+02,  2.13142494e+01,  1.11404137e+02,  5.52244034e+01,\n",
       "       -1.71196400e+02, -6.24069785e+01,  1.18537584e+02, -7.99090633e+01,\n",
       "        4.79315729e+01, -1.92936700e+02, -2.41775128e+02, -5.77225694e+01,\n",
       "       -2.03667470e+02,  9.63658287e+01, -9.25028012e+01, -7.25433547e+01,\n",
       "        2.33093565e+02, -1.17072483e+02, -3.40561190e+02,  8.04894531e+01,\n",
       "       -2.00586141e+02, -1.09208295e+01,  7.56507080e+01, -1.25088689e+02,\n",
       "       -7.97100163e+01,  4.71778708e+01, -1.07476148e+02, -1.71768581e+02,\n",
       "       -1.43513321e+02, -1.02913245e+01, -3.46763057e+01, -1.33827441e+02,\n",
       "       -4.13602769e+01,  1.14145312e+02, -1.26634024e+02,  4.66666462e+01,\n",
       "       -1.37673613e+02, -1.09603192e+02, -9.18612347e+01,  1.82576733e+02,\n",
       "       -1.87108675e+02,  1.99519032e+02,  5.84549327e+01, -1.93437305e+02,\n",
       "        3.66855317e+01,  4.59100828e+01,  1.07253417e+02,  1.40698941e+02,\n",
       "       -1.38520518e+02, -9.07347359e+00, -1.00722285e+02, -1.00682873e+02,\n",
       "       -7.54533272e+01,  1.52945509e+02, -1.22560918e+02, -1.47094842e+02,\n",
       "       -4.28995227e+01,  3.98192585e+01, -6.70219995e+01,  3.64716220e+01,\n",
       "       -8.09284373e+01, -3.37699907e+02, -2.16612669e-01, -2.60525291e+01,\n",
       "        5.07880583e+01,  3.94380893e+01, -2.16658573e+02,  1.01324868e+02,\n",
       "       -6.13903321e+01,  6.34578681e+00,  3.77023355e+01,  3.76673795e+02,\n",
       "        7.46046063e+01,  2.68518278e+01, -4.14891078e-01,  1.49646237e+02,\n",
       "       -7.60518883e+01, -1.27054502e+02, -1.76233910e+01,  1.73760880e+02,\n",
       "       -6.06920632e+00,  1.72151909e+02,  6.08082574e+01, -8.63162720e+01,\n",
       "       -6.33254079e+01,  1.20024174e+02,  3.81998439e+01, -4.34651853e+01,\n",
       "       -1.96087713e+02, -1.98109633e+02,  1.05383469e+02, -5.66014079e+01,\n",
       "        1.50320594e+02, -4.81360647e+01, -1.06784072e+01, -6.58338045e+01,\n",
       "       -1.78959288e+02, -2.65018256e+01, -2.20625203e+02, -7.33750598e+01])"
      ]
     },
     "execution_count": 145,
     "metadata": {},
     "output_type": "execute_result"
    }
   ],
   "source": [
    "y"
   ]
  },
  {
   "cell_type": "code",
   "execution_count": 150,
   "metadata": {},
   "outputs": [
    {
     "data": {
      "text/plain": [
       "((1, 100),\n",
       " array([[ 1.13111269e+02,  2.13142494e+01,  1.11404137e+02,\n",
       "          5.52244034e+01, -1.71196400e+02, -6.24069785e+01,\n",
       "          1.18537584e+02, -7.99090633e+01,  4.79315729e+01,\n",
       "         -1.92936700e+02, -2.41775128e+02, -5.77225694e+01,\n",
       "         -2.03667470e+02,  9.63658287e+01, -9.25028012e+01,\n",
       "         -7.25433547e+01,  2.33093565e+02, -1.17072483e+02,\n",
       "         -3.40561190e+02,  8.04894531e+01, -2.00586141e+02,\n",
       "         -1.09208295e+01,  7.56507080e+01, -1.25088689e+02,\n",
       "         -7.97100163e+01,  4.71778708e+01, -1.07476148e+02,\n",
       "         -1.71768581e+02, -1.43513321e+02, -1.02913245e+01,\n",
       "         -3.46763057e+01, -1.33827441e+02, -4.13602769e+01,\n",
       "          1.14145312e+02, -1.26634024e+02,  4.66666462e+01,\n",
       "         -1.37673613e+02, -1.09603192e+02, -9.18612347e+01,\n",
       "          1.82576733e+02, -1.87108675e+02,  1.99519032e+02,\n",
       "          5.84549327e+01, -1.93437305e+02,  3.66855317e+01,\n",
       "          4.59100828e+01,  1.07253417e+02,  1.40698941e+02,\n",
       "         -1.38520518e+02, -9.07347359e+00, -1.00722285e+02,\n",
       "         -1.00682873e+02, -7.54533272e+01,  1.52945509e+02,\n",
       "         -1.22560918e+02, -1.47094842e+02, -4.28995227e+01,\n",
       "          3.98192585e+01, -6.70219995e+01,  3.64716220e+01,\n",
       "         -8.09284373e+01, -3.37699907e+02, -2.16612669e-01,\n",
       "         -2.60525291e+01,  5.07880583e+01,  3.94380893e+01,\n",
       "         -2.16658573e+02,  1.01324868e+02, -6.13903321e+01,\n",
       "          6.34578681e+00,  3.77023355e+01,  3.76673795e+02,\n",
       "          7.46046063e+01,  2.68518278e+01, -4.14891078e-01,\n",
       "          1.49646237e+02, -7.60518883e+01, -1.27054502e+02,\n",
       "         -1.76233910e+01,  1.73760880e+02, -6.06920632e+00,\n",
       "          1.72151909e+02,  6.08082574e+01, -8.63162720e+01,\n",
       "         -6.33254079e+01,  1.20024174e+02,  3.81998439e+01,\n",
       "         -4.34651853e+01, -1.96087713e+02, -1.98109633e+02,\n",
       "          1.05383469e+02, -5.66014079e+01,  1.50320594e+02,\n",
       "         -4.81360647e+01, -1.06784072e+01, -6.58338045e+01,\n",
       "         -1.78959288e+02, -2.65018256e+01, -2.20625203e+02,\n",
       "         -7.33750598e+01]]))"
      ]
     },
     "execution_count": 150,
     "metadata": {},
     "output_type": "execute_result"
    }
   ],
   "source": [
    "y = y.reshape(-1, 1).T\n",
    "y.shape, y"
   ]
  },
  {
   "cell_type": "code",
   "execution_count": 151,
   "metadata": {},
   "outputs": [],
   "source": [
    "from sklearn.preprocessing import MinMaxScaler"
   ]
  },
  {
   "cell_type": "code",
   "execution_count": 152,
   "metadata": {},
   "outputs": [],
   "source": [
    "scaler = MinMaxScaler()"
   ]
  },
  {
   "cell_type": "code",
   "execution_count": 153,
   "metadata": {},
   "outputs": [
    {
     "data": {
      "text/plain": [
       "MinMaxScaler()"
      ]
     },
     "execution_count": 153,
     "metadata": {},
     "output_type": "execute_result"
    }
   ],
   "source": [
    "scaler.fit(X)"
   ]
  },
  {
   "cell_type": "code",
   "execution_count": 154,
   "metadata": {},
   "outputs": [],
   "source": [
    "X_norm = scaler.transform(X)"
   ]
  },
  {
   "cell_type": "code",
   "execution_count": 155,
   "metadata": {},
   "outputs": [
    {
     "data": {
      "text/plain": [
       "array([[0.70255212, 0.265308  , 0.50916434, ..., 0.67951413, 0.81531867,\n",
       "        0.05653411],\n",
       "       [0.63956926, 0.37931662, 0.52572942, ..., 0.39872115, 0.45603275,\n",
       "        0.70407311],\n",
       "       [0.84382888, 0.32436095, 0.51033387, ..., 0.86250002, 0.20799783,\n",
       "        0.7547233 ],\n",
       "       ...,\n",
       "       [0.55843587, 0.53974076, 0.68723687, ..., 0.28081379, 0.74914127,\n",
       "        0.50941644],\n",
       "       [0.70614717, 0.28811037, 0.51063931, ..., 0.65309207, 0.87566353,\n",
       "        0.30628962],\n",
       "       [0.67286507, 0.0743475 , 0.65966517, ..., 0.37968964, 0.52740295,\n",
       "        0.52864897]])"
      ]
     },
     "execution_count": 155,
     "metadata": {},
     "output_type": "execute_result"
    }
   ],
   "source": [
    "X_norm"
   ]
  },
  {
   "cell_type": "code",
   "execution_count": 156,
   "metadata": {},
   "outputs": [],
   "source": [
    "X_norm = np.concatenate((X_norm, np.ones([X.shape[0],1])), axis=1)"
   ]
  },
  {
   "cell_type": "code",
   "execution_count": 157,
   "metadata": {},
   "outputs": [
    {
     "data": {
      "text/plain": [
       "((100, 101),\n",
       " array([[0.70255212, 0.265308  , 0.50916434, ..., 0.81531867, 0.05653411,\n",
       "         1.        ],\n",
       "        [0.63956926, 0.37931662, 0.52572942, ..., 0.45603275, 0.70407311,\n",
       "         1.        ],\n",
       "        [0.84382888, 0.32436095, 0.51033387, ..., 0.20799783, 0.7547233 ,\n",
       "         1.        ],\n",
       "        ...,\n",
       "        [0.55843587, 0.53974076, 0.68723687, ..., 0.74914127, 0.50941644,\n",
       "         1.        ],\n",
       "        [0.70614717, 0.28811037, 0.51063931, ..., 0.87566353, 0.30628962,\n",
       "         1.        ],\n",
       "        [0.67286507, 0.0743475 , 0.65966517, ..., 0.52740295, 0.52864897,\n",
       "         1.        ]]),\n",
       " array([[0.70255212, 0.63956926, 0.84382888, ..., 0.55843587, 0.70614717,\n",
       "         0.67286507],\n",
       "        [0.265308  , 0.37931662, 0.32436095, ..., 0.53974076, 0.28811037,\n",
       "         0.0743475 ],\n",
       "        [0.50916434, 0.52572942, 0.51033387, ..., 0.68723687, 0.51063931,\n",
       "         0.65966517],\n",
       "        ...,\n",
       "        [0.81531867, 0.45603275, 0.20799783, ..., 0.74914127, 0.87566353,\n",
       "         0.52740295],\n",
       "        [0.05653411, 0.70407311, 0.7547233 , ..., 0.50941644, 0.30628962,\n",
       "         0.52864897],\n",
       "        [1.        , 1.        , 1.        , ..., 1.        , 1.        ,\n",
       "         1.        ]]))"
      ]
     },
     "execution_count": 157,
     "metadata": {},
     "output_type": "execute_result"
    }
   ],
   "source": [
    "X_norm.shape, X_norm, X_norm.T"
   ]
  },
  {
   "cell_type": "code",
   "execution_count": 158,
   "metadata": {},
   "outputs": [],
   "source": [
    "X_norm = X_norm.T \n",
    "#X.shape[0] = 101 Фича"
   ]
  },
  {
   "cell_type": "markdown",
   "metadata": {},
   "source": [
    "Подберем веса(обучим модель) с помощью градиентного спуска"
   ]
  },
  {
   "cell_type": "code",
   "execution_count": 302,
   "metadata": {},
   "outputs": [],
   "source": [
    "def mse(y, y_pred):\n",
    "    err = np.mean((y - y_pred)**2)\n",
    "    return err\n",
    "\n",
    "def gradient_descendent(X, y, w, alpha=1e-4, iters=1000):\n",
    "    n = X.shape[1]\n",
    "    errors_GD = []\n",
    "    for i in range(iters):\n",
    "        y_pred = np.dot(w, X)\n",
    "        err = mse(y, y_pred)\n",
    "        w -= alpha * (2/n * np.dot((y_pred - y), X.T))\n",
    "        if i % (iters / 10) == 0:\n",
    "            print(i, err)\n",
    "        errors_GD.append(err)\n",
    "    return w, errors_GD\n",
    "    "
   ]
  },
  {
   "cell_type": "code",
   "execution_count": 303,
   "metadata": {},
   "outputs": [
    {
     "data": {
      "text/plain": [
       "(1, 101)"
      ]
     },
     "execution_count": 303,
     "metadata": {},
     "output_type": "execute_result"
    }
   ],
   "source": [
    "w_start = np.random.rand(X_norm.shape[0]).reshape(-1,1).T\n",
    "w_start.shape"
   ]
  },
  {
   "cell_type": "code",
   "execution_count": 304,
   "metadata": {},
   "outputs": [
    {
     "name": "stdout",
     "output_type": "stream",
     "text": [
      "0 18293.849842440337\n",
      "100 16561.344939334023\n",
      "200 15930.179810598398\n",
      "300 15679.147411885513\n",
      "400 15559.403394733441\n",
      "500 15485.086474000964\n",
      "600 15426.57071060381\n",
      "700 15373.633496915752\n",
      "800 15322.747113581714\n",
      "900 15272.69383419621\n"
     ]
    }
   ],
   "source": [
    "w1, errors_GD = gradient_descendent(X_norm, y, w_start)"
   ]
  },
  {
   "cell_type": "markdown",
   "metadata": {},
   "source": [
    "стохастический градиентный спуск"
   ]
  },
  {
   "cell_type": "code",
   "execution_count": 312,
   "metadata": {},
   "outputs": [],
   "source": [
    "def SDG(X, y, w, alpha=1e-4, iters=1000):\n",
    "    n = X.shape[1]\n",
    "    j = 0\n",
    "    errors_SGD = []\n",
    "    for i in range(iters):\n",
    "        for j in range(100): \n",
    "            y_pred = np.dot(w, X)\n",
    "            err = mse(y[0,j], y_pred[0,j])\n",
    "            w -= alpha * (2/n * (y_pred[0,j] - y[0,j]) * X[0,j])\n",
    "        errors_SGD.append(err)\n",
    "        if i % (iters / 10) == 0:\n",
    "            print(i, err)\n",
    "        \n",
    "    return w, errors_SGD"
   ]
  },
  {
   "cell_type": "code",
   "execution_count": 313,
   "metadata": {},
   "outputs": [
    {
     "data": {
      "text/plain": [
       "(1, 101)"
      ]
     },
     "execution_count": 313,
     "metadata": {},
     "output_type": "execute_result"
    }
   ],
   "source": [
    "w_start = np.random.rand(X_norm.shape[0]).reshape(-1,1).T\n",
    "w_start.shape"
   ]
  },
  {
   "cell_type": "code",
   "execution_count": 314,
   "metadata": {},
   "outputs": [
    {
     "name": "stdout",
     "output_type": "stream",
     "text": [
      "0 9775.920000050846\n",
      "100 5808.953698379226\n",
      "200 4036.4039572882257\n",
      "300 3184.571936047714\n",
      "400 2751.724012942883\n",
      "500 2523.203916275105\n",
      "600 2399.5974092439224\n",
      "700 2331.7548511482946\n",
      "800 2294.199730385275\n",
      "900 2273.3086009590384\n"
     ]
    }
   ],
   "source": [
    "w2, errors_SGD = SDG(X_norm, y, w_start)"
   ]
  },
  {
   "cell_type": "code",
   "execution_count": null,
   "metadata": {},
   "outputs": [],
   "source": []
  },
  {
   "cell_type": "markdown",
   "metadata": {},
   "source": [
    "за 1000 итераций стохастический градиентный спуск показал себя намного лучше градиентного"
   ]
  },
  {
   "cell_type": "code",
   "execution_count": 317,
   "metadata": {},
   "outputs": [
    {
     "name": "stderr",
     "output_type": "stream",
     "text": [
      "/Users/maximcucer/opt/anaconda3/lib/python3.8/site-packages/seaborn/_decorators.py:36: FutureWarning: Pass the following variables as keyword args: x, y. From version 0.12, the only valid positional argument will be `data`, and passing other arguments without an explicit keyword will result in an error or misinterpretation.\n",
      "  warnings.warn(\n",
      "/Users/maximcucer/opt/anaconda3/lib/python3.8/site-packages/seaborn/_decorators.py:36: FutureWarning: Pass the following variables as keyword args: x, y. From version 0.12, the only valid positional argument will be `data`, and passing other arguments without an explicit keyword will result in an error or misinterpretation.\n",
      "  warnings.warn(\n"
     ]
    },
    {
     "data": {
      "text/plain": [
       "<AxesSubplot:>"
      ]
     },
     "execution_count": 317,
     "metadata": {},
     "output_type": "execute_result"
    },
    {
     "data": {
      "image/png": "[encoded data removed]",
      "text/plain": [
       "<Figure size 432x288 with 1 Axes>"
      ]
     },
     "metadata": {
      "needs_background": "light"
     },
     "output_type": "display_data"
    }
   ],
   "source": [
    "sns.lineplot(range(1000), errors_SGD, color = 'red'),\n",
    "sns.lineplot(range(1000), errors_GD, color = 'blue')"
   ]
  },
  {
   "cell_type": "markdown",
   "metadata": {},
   "source": [
    "стохастический градиентныцй спуск показал намного более хороший результат и быстрее сошолся к оптимальному решению"
   ]
  },
  {
   "cell_type": "markdown",
   "metadata": {},
   "source": [
    "2) добавил в SDG L2 Регуляризацию"
   ]
  },
  {
   "cell_type": "code",
   "execution_count": 332,
   "metadata": {},
   "outputs": [],
   "source": [
    "def SDG_L2(X, y, w, alpha=1e-4, iters=1000, lambda_=1e-8):\n",
    "    n = X.shape[1]\n",
    "    j = 0\n",
    "    for i in range(iters):\n",
    "        for j in range(100): \n",
    "            y_pred = np.dot(w, X)\n",
    "            err = mse(y[0,j], y_pred[0,j])\n",
    "            w -= alpha * (2/n * ((y_pred[0,j] - y[0,j]) * X[0,j]+lambda_*w))\n",
    "        if i % (iters / 10) == 0:\n",
    "            print(i, err)\n",
    "        \n",
    "    return w"
   ]
  },
  {
   "cell_type": "code",
   "execution_count": 333,
   "metadata": {},
   "outputs": [
    {
     "data": {
      "text/plain": [
       "(1, 101)"
      ]
     },
     "execution_count": 333,
     "metadata": {},
     "output_type": "execute_result"
    }
   ],
   "source": [
    "w_start = np.random.rand(X_norm.shape[0]).reshape(-1,1).T\n",
    "w_start.shape"
   ]
  },
  {
   "cell_type": "code",
   "execution_count": 334,
   "metadata": {},
   "outputs": [
    {
     "name": "stdout",
     "output_type": "stream",
     "text": [
      "0 9913.0185893558\n",
      "100 5996.365671229151\n",
      "200 4231.301871328289\n",
      "300 3377.1792762527584\n",
      "400 2941.017753454235\n",
      "500 2710.00601582349\n",
      "600 2584.805114013311\n",
      "700 2516.007447324969\n",
      "800 2477.8980374773464\n",
      "900 2456.690462222427\n"
     ]
    }
   ],
   "source": [
    "w3 = SDG_L2(X_norm, y, w_start)"
   ]
  },
  {
   "cell_type": "code",
   "execution_count": null,
   "metadata": {},
   "outputs": [],
   "source": []
  }
 ],
 "metadata": {
  "kernelspec": {
   "display_name": "Python 3",
   "language": "python",
   "name": "python3"
  },
  "language_info": {
   "codemirror_mode": {
    "name": "ipython",
    "version": 3
   },
   "file_extension": ".py",
   "mimetype": "text/x-python",
   "name": "python",
   "nbconvert_exporter": "python",
   "pygments_lexer": "ipython3",
   "version": "3.8.5"
  }
 },
 "nbformat": 4,
 "nbformat_minor": 4
}
